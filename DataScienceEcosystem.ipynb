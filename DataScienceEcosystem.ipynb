{
 "cells": [
  {
   "cell_type": "markdown",
   "id": "43d0a0b0-eecf-4911-b8e1-6c24879571aa",
   "metadata": {},
   "source": [
    "# Data Science Tools and Ecosystem "
   ]
  },
  {
   "cell_type": "markdown",
   "id": "20197af5-49af-4f09-8124-8e21bc28a06c",
   "metadata": {},
   "source": [
    "In this notebook, Data Science Tools and Ecosystem are summarized."
   ]
  },
  {
   "cell_type": "markdown",
   "id": "636e9f47-3306-4049-81f2-fc63cc7496aa",
   "metadata": {},
   "source": [
    "Some of the popular languages that Data Scientists use are:\n",
    "1. Python\n",
    "2. R\n",
    "3. SQL\n",
    "4. C++\n",
    "5. Java, etc..."
   ]
  },
  {
   "cell_type": "markdown",
   "id": "555ea2e8-23b4-4a2a-aa75-5b86790a2900",
   "metadata": {},
   "source": [
    "Some of the commonly used libraries used by Data Scientists include:\n",
    "1. TensorFlow\n",
    "2. SciPy\n",
    "3. NumPy\n",
    "4. Matplotlib\n",
    "5. Keras\n",
    "6. SciKit-Learn\n",
    "7. PyTorch, etc..."
   ]
  },
  {
   "cell_type": "markdown",
   "id": "bdee09b3-fc55-4ee7-b80d-8d883d094468",
   "metadata": {},
   "source": [
    "|Data Science Tools|\n",
    "|---|\n",
    "|TensorFlow|\n",
    "|Apache Hadoop|\n",
    "|SAS|"
   ]
  },
  {
   "cell_type": "markdown",
   "id": "6b221e1a-068f-45d9-b7cc-55d5c5386482",
   "metadata": {},
   "source": [
    "### Below are a few examples of evaluating arithmetic expressions in Python."
   ]
  },
  {
   "cell_type": "code",
   "execution_count": 3,
   "id": "763279fa-66a2-471e-a88b-e65b1be8dd2a",
   "metadata": {},
   "outputs": [
    {
     "data": {
      "text/plain": [
       "17"
      ]
     },
     "execution_count": 3,
     "metadata": {},
     "output_type": "execute_result"
    }
   ],
   "source": [
    "#This a simple arithmetic expression to mutiply then add integers.\n",
    "(3*4) + 5"
   ]
  },
  {
   "cell_type": "code",
   "execution_count": 5,
   "id": "f3afcf1c-3fc0-4a53-8ba8-c2bd38e1f9b2",
   "metadata": {},
   "outputs": [
    {
     "data": {
      "text/plain": [
       "33.333333333333336"
      ]
     },
     "execution_count": 5,
     "metadata": {},
     "output_type": "execute_result"
    }
   ],
   "source": [
    "#This will convert 200 minutes to hours by diving by 60\n",
    "200 / 6 "
   ]
  },
  {
   "cell_type": "markdown",
   "id": "e21762d5-f4c4-4f0c-90e3-c508e1e72202",
   "metadata": {},
   "source": [
    "**Objectives :**\n",
    "- List popular languages for Data Science\n",
    "- List popular libraries for Data Science\n",
    "- List all the well known Data Science Tools\n",
    "- How to provide comments in the cell"
   ]
  },
  {
   "cell_type": "markdown",
   "id": "caec01fa-9280-44f4-a053-9b87d9e36f33",
   "metadata": {},
   "source": [
    "## Author:\n",
    "Venkatraj Goli"
   ]
  },
  {
   "cell_type": "code",
   "execution_count": null,
   "id": "8faa09ab-8bb2-471e-b1ac-58d641753819",
   "metadata": {},
   "outputs": [],
   "source": []
  }
 ],
 "metadata": {
  "kernelspec": {
   "display_name": "Python 3 (ipykernel)",
   "language": "python",
   "name": "python3"
  },
  "language_info": {
   "codemirror_mode": {
    "name": "ipython",
    "version": 3
   },
   "file_extension": ".py",
   "mimetype": "text/x-python",
   "name": "python",
   "nbconvert_exporter": "python",
   "pygments_lexer": "ipython3",
   "version": "3.12.4"
  }
 },
 "nbformat": 4,
 "nbformat_minor": 5
}
